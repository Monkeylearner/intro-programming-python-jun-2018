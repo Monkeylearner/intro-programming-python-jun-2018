{
 "cells": [
  {
   "cell_type": "markdown",
   "metadata": {},
   "source": [
    "## List methods\n",
    "\n",
    "Lists can do some interesting things via their *methods*.\n",
    "\n",
    "In Python, objects have methods, which can be thought of as their \"behaviors\", or functions that they can perform.\n",
    "\n",
    "We have aleady seen the `append()` method of a list:"
   ]
  },
  {
   "cell_type": "code",
   "execution_count": null,
   "metadata": {},
   "outputs": [],
   "source": [
    "number_list = [1, 2, 3]\n",
    "number_list.append(4)\n",
    "print(number_list)"
   ]
  },
  {
   "cell_type": "markdown",
   "metadata": {},
   "source": [
    "It is also possible to use the `insert()` method of a list to add an element in a particular place. `insert()` takes two parameters, the position to insert the value at, and the value.\n",
    "\n",
    "Remember that the position is zero-based!"
   ]
  },
  {
   "cell_type": "code",
   "execution_count": null,
   "metadata": {},
   "outputs": [],
   "source": [
    "# insert the number 67 as the new third element in the list\n",
    "number_list.insert(2, 67)\n",
    "print(number_list)"
   ]
  },
  {
   "cell_type": "markdown",
   "metadata": {},
   "source": [
    "list.`pop()` removes and returns the last element of a list."
   ]
  },
  {
   "cell_type": "code",
   "execution_count": null,
   "metadata": {},
   "outputs": [],
   "source": [
    "last_number = number_list.pop()\n",
    "print(last_number)\n",
    "print(number_list)"
   ]
  },
  {
   "cell_type": "markdown",
   "metadata": {},
   "source": [
    "With no arguments, `pop()` removes the last element, but if an index is passed as an argument, the element at that index will be removed and returned:"
   ]
  },
  {
   "cell_type": "code",
   "execution_count": null,
   "metadata": {},
   "outputs": [],
   "source": [
    "first_number = number_list.pop(0)\n",
    "print(first_number)\n",
    "print(number_list)"
   ]
  },
  {
   "cell_type": "markdown",
   "metadata": {},
   "source": [
    "## Tuples\n",
    "\n",
    "Strings and lists are both *sequence* types in Python, meaning that they can do a lot of the same things, like indexing and slicing. Another type of sequence in Python is the *tuple*. Tuples are a comma-separated list of values in parentheses:"
   ]
  },
  {
   "cell_type": "code",
   "execution_count": null,
   "metadata": {},
   "outputs": [],
   "source": [
    "first_tuple = (123, 456, \"hello\", \"world\")\n",
    "print(first_tuple)"
   ]
  },
  {
   "cell_type": "markdown",
   "metadata": {},
   "source": [
    "Unlike lists, tuples are immutable, meaning they cannot be changed once they are created."
   ]
  },
  {
   "cell_type": "code",
   "execution_count": null,
   "metadata": {},
   "outputs": [],
   "source": [
    "first_tuple[0] = 789"
   ]
  },
  {
   "cell_type": "markdown",
   "metadata": {},
   "source": [
    "Tuples are usually used to represent things like structured records (for example, the rows of a spreadsheet or database table) where values at different indices represent different things.\n",
    "\n",
    "For example imagine a CSV file with these fields:\n",
    "`RECORD_ID,DATE,LAT,LON,OBSERVATION_VALUES`\n",
    "\n",
    "You might represent each record in the CSV file with a tuple:"
   ]
  },
  {
   "cell_type": "code",
   "execution_count": null,
   "metadata": {
    "collapsed": true
   },
   "outputs": [],
   "source": [
    "row_1 = (1, '2018-06-22', 42.045597, -87.688568, 71.5)\n",
    "row_2 = (2, '2018-06-23', 42.045597, -87.688568, 73.1)"
   ]
  },
  {
   "cell_type": "markdown",
   "metadata": {},
   "source": [
    "When working with this data, you know each tuple has a certain structure and can look up \"fields\" by their position:"
   ]
  },
  {
   "cell_type": "code",
   "execution_count": null,
   "metadata": {},
   "outputs": [],
   "source": [
    "row_1_value = row_1[4]\n",
    "row_1_date = row_1[1]\n",
    "print(row_1_date, row_1_value)"
   ]
  },
  {
   "cell_type": "markdown",
   "metadata": {},
   "source": [
    "Tuples also support a handy feature called \"unpacking\", where each element of a tuple can be assigned to a separate variable with a single assignment:"
   ]
  },
  {
   "cell_type": "code",
   "execution_count": null,
   "metadata": {},
   "outputs": [],
   "source": [
    "record_id, date, lat, lon, val = row_2\n",
    "print(date, val)"
   ]
  },
  {
   "cell_type": "markdown",
   "metadata": {},
   "source": [
    "## Sets\n",
    "\n",
    "Python also includes a data type for sets. A `set` is an unordered collection with no duplicate elements.\n",
    "\n",
    "Basic uses include membership testing and eliminating duplicate entries. Set objects also support mathematical operations like union, intersection, difference, and symmetric difference.\n",
    "\n",
    "Sets are created via comma-separated elements in curly braces (`{}`) or the `set()` function (which takes a sequence of values as a parameter):"
   ]
  },
  {
   "cell_type": "code",
   "execution_count": null,
   "metadata": {},
   "outputs": [],
   "source": [
    "number_set = {1, 2, 3, 2}\n",
    "print(number_set)"
   ]
  },
  {
   "cell_type": "code",
   "execution_count": null,
   "metadata": {},
   "outputs": [],
   "source": [
    "number_set.add(4)\n",
    "number_set.add(3)\n",
    "print(number_set)"
   ]
  },
  {
   "cell_type": "code",
   "execution_count": null,
   "metadata": {},
   "outputs": [],
   "source": [
    "fruit_set = set([\"apple\", \"strawberry\", \"cherry\"])\n",
    "\"apple\" in fruit_set"
   ]
  },
  {
   "cell_type": "code",
   "execution_count": null,
   "metadata": {},
   "outputs": [],
   "source": [
    "\"pear\" in fruit_set"
   ]
  },
  {
   "cell_type": "markdown",
   "metadata": {},
   "source": [
    "Sets are very useful for removing duplicate values from a sequence."
   ]
  },
  {
   "cell_type": "code",
   "execution_count": null,
   "metadata": {},
   "outputs": [],
   "source": [
    "values = [\"cat\", \"rat\", \"hat\", \"cat\", \"sat\", \"hat\", \"mat\", \"sat\", \"vat\", \"pat\", \"vat\", \"sat\", \"rat\"]\n",
    "print(set(values))"
   ]
  },
  {
   "cell_type": "markdown",
   "metadata": {},
   "source": [
    "## Exercise\n",
    "\n",
    "What will the cells below output?"
   ]
  },
  {
   "cell_type": "code",
   "execution_count": null,
   "metadata": {},
   "outputs": [],
   "source": [
    "raw_data = [\"Jan\", 76, \"Feb\", 90, \"Mar\", 73, \"Apr\", 90]\n",
    "records = []\n",
    "for i in range(4):\n",
    "    record = (raw_data[i*2], raw_data[(i*2) + 1])\n",
    "    records.append(record)\n",
    "\n",
    "print(records[2][1])"
   ]
  },
  {
   "cell_type": "code",
   "execution_count": null,
   "metadata": {},
   "outputs": [],
   "source": [
    "values = set()\n",
    "for record in records:\n",
    "    values.add(record[1])\n",
    "\n",
    "print(values)"
   ]
  },
  {
   "cell_type": "markdown",
   "metadata": {},
   "source": [
    "## Dictionaries\n",
    "\n",
    "Another useful data type built into Python is the *dictionary*. Dictionaries contain multiple values, like lists, but rather than being indexed by a range of numbers, dictionaries are indexed by *keys*.\n",
    "\n",
    "Keys are usually (though not always) strings and must be unique.\n",
    "\n",
    "A dictionary can be thought of as a set of key:value pairs.\n",
    "\n",
    "Dictionaries are created with key:value pairs in curly braces (`{}`) or using the `dict()` function."
   ]
  },
  {
   "cell_type": "code",
   "execution_count": null,
   "metadata": {
    "collapsed": true
   },
   "outputs": [],
   "source": [
    "titles = {'Matthew': 'Cloud Services Specialist', 'Janna': 'Bioinformatics Specialist'}"
   ]
  },
  {
   "cell_type": "markdown",
   "metadata": {},
   "source": [
    "Square brackets (`[]`) are used to look up items in a dictionary by their key:"
   ]
  },
  {
   "cell_type": "code",
   "execution_count": null,
   "metadata": {},
   "outputs": [],
   "source": [
    "print(titles['Matthew'])"
   ]
  },
  {
   "cell_type": "markdown",
   "metadata": {},
   "source": [
    "The `in` keyword tests for the existence of *keys* in a dictionary (not values!)"
   ]
  },
  {
   "cell_type": "code",
   "execution_count": null,
   "metadata": {},
   "outputs": [],
   "source": [
    "\"Matthew\" in titles"
   ]
  },
  {
   "cell_type": "code",
   "execution_count": null,
   "metadata": {},
   "outputs": [],
   "source": [
    "\"Bioinformatics Specialist\" in titles"
   ]
  },
  {
   "cell_type": "markdown",
   "metadata": {},
   "source": [
    "The `keys()` method of a dictionary can be used to get a list of all of its keys."
   ]
  },
  {
   "cell_type": "code",
   "execution_count": null,
   "metadata": {},
   "outputs": [],
   "source": [
    "print(list(titles.keys()))"
   ]
  },
  {
   "cell_type": "markdown",
   "metadata": {},
   "source": [
    "The `items()` method of a dictionary can be used to iterate through the key:value pairs:"
   ]
  },
  {
   "cell_type": "code",
   "execution_count": null,
   "metadata": {},
   "outputs": [],
   "source": [
    "for name, title in titles.items():\n",
    "    print(name, \"is a\", title)"
   ]
  },
  {
   "cell_type": "markdown",
   "metadata": {},
   "source": [
    "New items can be created in a dictionary by just assigning to them."
   ]
  },
  {
   "cell_type": "code",
   "execution_count": null,
   "metadata": {},
   "outputs": [],
   "source": [
    "titles[\"Morton\"] = \"President\"\n",
    "print(titles)"
   ]
  },
  {
   "cell_type": "markdown",
   "metadata": {},
   "source": [
    "Assigning to an existing key in the dictionary overwrites what is already there."
   ]
  },
  {
   "cell_type": "code",
   "execution_count": null,
   "metadata": {},
   "outputs": [],
   "source": [
    "titles[\"Matthew\"] = \"Instructor\"\n",
    "print(titles)"
   ]
  },
  {
   "cell_type": "markdown",
   "metadata": {},
   "source": [
    "Looking up a key that doesn't exist in the dictionary creates an exception:"
   ]
  },
  {
   "cell_type": "code",
   "execution_count": null,
   "metadata": {},
   "outputs": [],
   "source": [
    "print(titles[\"Penelope\"])"
   ]
  },
  {
   "cell_type": "markdown",
   "metadata": {},
   "source": [
    "One way to guard against this is to use the dictionary's `get()` method, which will just return `None` if the key is not present:"
   ]
  },
  {
   "cell_type": "code",
   "execution_count": null,
   "metadata": {},
   "outputs": [],
   "source": [
    "print(titles.get(\"Penelope\"))"
   ]
  },
  {
   "cell_type": "code",
   "execution_count": null,
   "metadata": {
    "collapsed": true
   },
   "outputs": [],
   "source": []
  }
 ],
 "metadata": {
  "kernelspec": {
   "display_name": "Python 3",
   "language": "python",
   "name": "python3"
  },
  "language_info": {
   "codemirror_mode": {
    "name": "ipython",
    "version": 3
   },
   "file_extension": ".py",
   "mimetype": "text/x-python",
   "name": "python",
   "nbconvert_exporter": "python",
   "pygments_lexer": "ipython3",
   "version": "3.6.3"
  }
 },
 "nbformat": 4,
 "nbformat_minor": 2
}
