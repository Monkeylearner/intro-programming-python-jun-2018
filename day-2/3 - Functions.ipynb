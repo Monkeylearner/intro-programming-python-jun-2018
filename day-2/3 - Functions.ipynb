{
 "cells": [
  {
   "cell_type": "markdown",
   "metadata": {},
   "source": [
    "## Functions\n",
    "\n",
    "Functions are the first step in writing *reusable* code.\n",
    "\n",
    "A function is a piece of code that can be \"called\" (or run) multiple times by other code in your program.\n",
    "\n",
    "Functions can take *parameters*, or values that are passed into the function code. Functions can *return* a value as well.\n",
    "\n",
    "To create a function in Python, use the `def` keyword followed by the name of the function and a pair of parentheses, and then the body of the function is indented."
   ]
  },
  {
   "cell_type": "code",
   "execution_count": null,
   "metadata": {
    "collapsed": true
   },
   "outputs": [],
   "source": [
    "# the def keyword creates a function. Note that the function does not run when created!\n",
    "def say_hello():\n",
    "    print(\"Hello!\")"
   ]
  },
  {
   "cell_type": "markdown",
   "metadata": {},
   "source": [
    "To call a function, put its name in the code followed by parentheses."
   ]
  },
  {
   "cell_type": "code",
   "execution_count": null,
   "metadata": {},
   "outputs": [],
   "source": [
    "say_hello()"
   ]
  },
  {
   "cell_type": "markdown",
   "metadata": {},
   "source": [
    "If you forget the parentheses, Python will just print out the name of the function, which is not useful."
   ]
  },
  {
   "cell_type": "code",
   "execution_count": null,
   "metadata": {},
   "outputs": [],
   "source": [
    "say_hello"
   ]
  },
  {
   "cell_type": "markdown",
   "metadata": {},
   "source": [
    "Variables defined inside a function only exist inside that function. And they do *not* persist from one function invocation to another!"
   ]
  },
  {
   "cell_type": "code",
   "execution_count": null,
   "metadata": {},
   "outputs": [],
   "source": [
    "def add_one_to_a_number():\n",
    "    a_number = 10\n",
    "    a_number += 1\n",
    "    print(a_number)\n",
    "    \n",
    "add_one_to_a_number()\n",
    "add_one_to_a_number()\n",
    "add_one_to_a_number()\n",
    "\n",
    "# This will cause an exception because the variable a_number is only visible inside the function!\n",
    "print(a_number)"
   ]
  },
  {
   "cell_type": "markdown",
   "metadata": {},
   "source": [
    "Variables defined outside of a function are visible inside the function."
   ]
  },
  {
   "cell_type": "code",
   "execution_count": null,
   "metadata": {},
   "outputs": [],
   "source": [
    "color = \"green\"\n",
    "\n",
    "def print_current_color():\n",
    "    print(\"The value of color is\", color)\n",
    "    \n",
    "print_current_color()"
   ]
  },
  {
   "cell_type": "markdown",
   "metadata": {},
   "source": [
    "However, variables defined outside the function cannot be assigned to unless the `global` keyword is used to declare them inside the function."
   ]
  },
  {
   "cell_type": "code",
   "execution_count": null,
   "metadata": {},
   "outputs": [],
   "source": [
    "def change_current_color_the_wrong_way():\n",
    "    color = \"red\"\n",
    "    print(\"Inside the function, color is\", color)\n",
    "    \n",
    "def change_current_color_the_right_way():\n",
    "    global color\n",
    "    color = \"red\"\n",
    "    print(\"Inside the function, color is\", color)\n",
    "    \n",
    "change_current_color_the_wrong_way()\n",
    "print(\"Outside the function, color is\", color)\n",
    "\n",
    "change_current_color_the_right_way()\n",
    "print(\"Outside the function, color is\", color)"
   ]
  },
  {
   "cell_type": "markdown",
   "metadata": {},
   "source": [
    "Functions can take parameters, which are comma-separated names inside the parentheses right after the function name.\n",
    "\n",
    "When the function is called with arguments, the parameters will take on the values of those arguments inside the function."
   ]
  },
  {
   "cell_type": "code",
   "execution_count": null,
   "metadata": {
    "collapsed": true
   },
   "outputs": [],
   "source": [
    "def print_word_length(word):\n",
    "    print(word, \"is\", len(word), \"characters long.\")"
   ]
  },
  {
   "cell_type": "code",
   "execution_count": null,
   "metadata": {},
   "outputs": [],
   "source": [
    "print_word_length(\"hello\")\n",
    "print_word_length(\"pistachio\")"
   ]
  },
  {
   "cell_type": "markdown",
   "metadata": {},
   "source": [
    "Functions can return a value with the `return` keyword."
   ]
  },
  {
   "cell_type": "code",
   "execution_count": null,
   "metadata": {
    "collapsed": true
   },
   "outputs": [],
   "source": [
    "def add_two_numbers(num1, num2):\n",
    "    return num1 + num2"
   ]
  },
  {
   "cell_type": "code",
   "execution_count": null,
   "metadata": {},
   "outputs": [],
   "source": [
    "my_sum = add_two_numbers(5, 10)\n",
    "print(my_sum)"
   ]
  },
  {
   "cell_type": "markdown",
   "metadata": {},
   "source": [
    "## Exercises\n",
    "\n",
    "Write a function that takes a sequence of numbers as a parameter and returns the sum."
   ]
  },
  {
   "cell_type": "code",
   "execution_count": null,
   "metadata": {},
   "outputs": [],
   "source": []
  },
  {
   "cell_type": "markdown",
   "metadata": {},
   "source": [
    "Write a function that tests whether a string is a palindrome or not. (*hint: remember string slice syntax: [i:j:step]. Step can be negative!)*"
   ]
  },
  {
   "cell_type": "code",
   "execution_count": null,
   "metadata": {},
   "outputs": [],
   "source": []
  },
  {
   "cell_type": "markdown",
   "metadata": {},
   "source": [
    "## Default arguments and keyword arguments\n",
    "\n",
    "When you define parameters for a function, you can give them default values. This way, the function can be called without arguments (in which case the default value will be used) or with arguments (if the caller wants to specify their own value)."
   ]
  },
  {
   "cell_type": "code",
   "execution_count": null,
   "metadata": {},
   "outputs": [],
   "source": [
    "def say_something(word=\"Hello Python!\"):\n",
    "    print(word)\n",
    "    \n",
    "say_something()"
   ]
  },
  {
   "cell_type": "code",
   "execution_count": null,
   "metadata": {},
   "outputs": [],
   "source": [
    "say_something(\"I promise learning Python will be worth it!\")"
   ]
  },
  {
   "cell_type": "markdown",
   "metadata": {},
   "source": [
    "Arguments can also be passed to functions by *name*. These are called *keyword arguments*, often referred to in code as `kwargs`. This is helpful for functions that have lots of parameters."
   ]
  },
  {
   "cell_type": "code",
   "execution_count": null,
   "metadata": {},
   "outputs": [],
   "source": [
    "def puppy_status(name, happy = True, healthy = True, hungry = True):\n",
    "    if happy:\n",
    "        print(\"Your puppy\", name, \"is happy!\")\n",
    "    else:\n",
    "        print(\"Your puppy\", name, \"is not happy!\")\n",
    "        \n",
    "    if healthy:\n",
    "        print(name, \"is healthy!\")\n",
    "    else:\n",
    "        print(name, \"is not healthy!\")\n",
    "        \n",
    "    if hungry:\n",
    "        print(name, \"is hungry!\")\n",
    "    else:\n",
    "        print(name, \"is not hungry!\")\n",
    "        \n",
    "puppy_status(\"Barkley\")\n",
    "print()\n",
    "puppy_status(\"Sally\", hungry=False)\n",
    "print()\n",
    "puppy_status(name=\"Rolf\", happy=False)"
   ]
  },
  {
   "cell_type": "code",
   "execution_count": null,
   "metadata": {},
   "outputs": [],
   "source": [
    "# if a parameter does not have a default value, a value must be provided for it.\n",
    "puppy_status()"
   ]
  },
  {
   "cell_type": "markdown",
   "metadata": {},
   "source": [
    "## Exercise\n",
    "\n",
    "Write a function `num_filter` that takes three parameters: a sequence of numbers, a minimum value (default to 0) and a maximum value (default to 100). The function should return a list containing only the numbers between the minimum and maximum, inclusive."
   ]
  },
  {
   "cell_type": "code",
   "execution_count": null,
   "metadata": {
    "collapsed": true
   },
   "outputs": [],
   "source": []
  },
  {
   "cell_type": "markdown",
   "metadata": {},
   "source": [
    "Try calling your `num_filter` function with different minima and maxima."
   ]
  },
  {
   "cell_type": "code",
   "execution_count": null,
   "metadata": {
    "collapsed": true
   },
   "outputs": [],
   "source": []
  }
 ],
 "metadata": {
  "kernelspec": {
   "display_name": "Python 3",
   "language": "python",
   "name": "python3"
  },
  "language_info": {
   "codemirror_mode": {
    "name": "ipython",
    "version": 3
   },
   "file_extension": ".py",
   "mimetype": "text/x-python",
   "name": "python",
   "nbconvert_exporter": "python",
   "pygments_lexer": "ipython3",
   "version": "3.6.3"
  }
 },
 "nbformat": 4,
 "nbformat_minor": 2
}
